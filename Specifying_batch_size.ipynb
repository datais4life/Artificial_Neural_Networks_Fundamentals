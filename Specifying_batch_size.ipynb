{
 "cells": [
  {
   "cell_type": "code",
   "execution_count": null,
   "id": "0b2aca78",
   "metadata": {},
   "outputs": [],
   "source": [
    "# Importing methods to help loading and dealing with datasets.\n",
    "from torch.utils.data import Dataset, DataLoader\n",
    "import torch\n",
    "import torch.nn as nn"
   ]
  },
  {
   "cell_type": "code",
   "execution_count": null,
   "id": "d51a049b",
   "metadata": {},
   "outputs": [],
   "source": [
    "# Provide data points.\n",
    "x = [[1,2],[3,4],[5,6],[7,8]]\n",
    "y = [[3],[7],[11],[15]]"
   ]
  },
  {
   "cell_type": "code",
   "execution_count": null,
   "id": "9a181690",
   "metadata": {},
   "outputs": [],
   "source": [
    "# Convert data into floating-point numbers.\n",
    "X = torch.tensor(x).float()\n",
    "Y = torch.tensor(y).float()"
   ]
  },
  {
   "cell_type": "code",
   "execution_count": null,
   "id": "4674655c",
   "metadata": {},
   "outputs": [],
   "source": [
    "# Register data to the device.\n",
    "device = 'cuda' if torch.cuda.is_available() else 'cpu'\n",
    "X = X.to(device)\n",
    "Y = Y.to(device)"
   ]
  },
  {
   "cell_type": "code",
   "execution_count": null,
   "id": "fdb79a97",
   "metadata": {},
   "outputs": [],
   "source": [
    "# Instantiate a class of the dataset.\n",
    "class MyDataset(Dataset):\n",
    "    def __init__(self,x,y): #Define method that takes input and output pairs and converts them into Torch float objects.\n",
    "        self.x = torch.tensor(x).float()\n",
    "        self.y = torch.tensor(y).float()\n",
    "    def __len__(self): # Specify the length of the input dataset.\n",
    "        return len(self.x)\n",
    "    def __getitem__(self, ix): # Fetch a specific row.\n",
    "        return self.x[ix], self.y[ix]\n",
    "ds = MyDataset(X, Y)"
   ]
  },
  {
   "cell_type": "code",
   "execution_count": null,
   "id": "f889ad9d",
   "metadata": {},
   "outputs": [],
   "source": [
    "# Pass the dataset instance through the dataloader to fetch the batch size number of data points from the original input and output tensor objects.\n",
    "dl = DataLoader(ds, batch_size=2, shuffle=True) # Shuffle being true gives a random sample"
   ]
  },
  {
   "cell_type": "code",
   "execution_count": null,
   "id": "d7fca915",
   "metadata": {},
   "outputs": [],
   "source": [
    "# Define the neural network class\n",
    "class MyNeuralNet(nn.Module):\n",
    "    def __init__(self):\n",
    "        super().__init__()\n",
    "        self.input_to_hidden_layer = nn.Linear(2,8)\n",
    "        self.hidden_layer_activation = nn.ReLU()\n",
    "        self.hidden_to_output_layer = nn.Linear(8,1)\n",
    "    def forward(self, x):\n",
    "        x = self.input_to_hidden_layer(x)\n",
    "        x = self.hidden_layer_activation(x)\n",
    "        x = self.hidden_to_output_layer(x)\n",
    "        return x"
   ]
  },
  {
   "cell_type": "code",
   "execution_count": null,
   "id": "66c3ab59",
   "metadata": {},
   "outputs": [],
   "source": [
    "# Define the model object, loss function and optimizer.\n",
    "mynet = MyNeuralNet().to(device)\n",
    "loss_func = nn.MSELoss()\n",
    "from torch.optim import SGD\n",
    "opt = SGD(mynet.parameters(), lr = 0.001)"
   ]
  },
  {
   "cell_type": "code",
   "execution_count": null,
   "id": "1c982fb3",
   "metadata": {},
   "outputs": [],
   "source": [
    "# Loop through the batches of data points to minimize loss value.\n",
    "import time\n",
    "loss_history = []\n",
    "start = time.time()\n",
    "for _ in range(50):\n",
    "    for data in dl:\n",
    "        x, y = data\n",
    "        opt.zero_grad()\n",
    "        loss_value = loss_func(mynet(x),y)\n",
    "        loss_value.backward()\n",
    "        opt.step()\n",
    "        loss_history.append(loss_value)\n",
    "end = time.time()\n",
    "print(end - start)"
   ]
  },
  {
   "cell_type": "markdown",
   "id": "0bcf5592",
   "metadata": {},
   "source": [
    "### Predicting on new data points"
   ]
  },
  {
   "cell_type": "code",
   "execution_count": null,
   "id": "ee23b991",
   "metadata": {},
   "outputs": [],
   "source": [
    "# Create the data point to test.\n",
    "val_x = [[10,11]]"
   ]
  },
  {
   "cell_type": "code",
   "execution_count": null,
   "id": "28e3f6c4",
   "metadata": {},
   "outputs": [],
   "source": [
    "# Convert the new data points into tensor float objects and register to device.\n",
    "val_x = torch.tensor(val_x).float().to(device)"
   ]
  },
  {
   "cell_type": "code",
   "execution_count": null,
   "id": "da247cd3",
   "metadata": {},
   "outputs": [],
   "source": [
    "# Pass the tensor object through the trained network like a python function.\n",
    "mynet(val_x)"
   ]
  }
 ],
 "metadata": {
  "kernelspec": {
   "display_name": "Python 3 (ipykernel)",
   "language": "python",
   "name": "python3"
  },
  "language_info": {
   "codemirror_mode": {
    "name": "ipython",
    "version": 3
   },
   "file_extension": ".py",
   "mimetype": "text/x-python",
   "name": "python",
   "nbconvert_exporter": "python",
   "pygments_lexer": "ipython3",
   "version": "3.11.5"
  }
 },
 "nbformat": 4,
 "nbformat_minor": 5
}
