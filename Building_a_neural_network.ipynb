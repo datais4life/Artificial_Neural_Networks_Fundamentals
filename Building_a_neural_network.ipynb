{
 "cells": [
  {
   "cell_type": "code",
   "execution_count": 1,
   "id": "33383d35",
   "metadata": {},
   "outputs": [],
   "source": [
    "# Define the input and output values.\n",
    "import torch\n",
    "x = [[1,2],[3,4],[5,6],[7,8]]\n",
    "y = [[3],[7],[11],[15]]"
   ]
  },
  {
   "cell_type": "code",
   "execution_count": 2,
   "id": "dec519fb",
   "metadata": {},
   "outputs": [],
   "source": [
    "# Convert the input list into tensor objects. (floating-point objects)\n",
    "X = torch.tensor(x).float()\n",
    "Y = torch.tensor(y).float()"
   ]
  },
  {
   "cell_type": "code",
   "execution_count": 3,
   "id": "84e5ce70",
   "metadata": {},
   "outputs": [],
   "source": [
    "# Register input and output data points to the GPU/CPU device\n",
    "device = 'cuda' if torch.cuda.is_available() else 'cpu'\n",
    "X = X.to(device)\n",
    "Y = Y.to(device)"
   ]
  },
  {
   "cell_type": "code",
   "execution_count": 4,
   "id": "fa19aeec",
   "metadata": {},
   "outputs": [],
   "source": [
    "# Define the neural network architecture.\n",
    "import torch.nn as nn"
   ]
  },
  {
   "cell_type": "code",
   "execution_count": 5,
   "id": "83b50ef4",
   "metadata": {},
   "outputs": [],
   "source": [
    "# Create a class to compose the architecture.\n",
    "class MyNeuralNet(nn.Module):\n",
    "    # Initialize components of the neural network.\n",
    "    def __init__(self):\n",
    "        super().__init__()\n",
    "        # Define the layers of the neural network.\n",
    "        self.input_to_hidden_layer = nn.Linear(2,8) # Takes in 2 inputs and outputs 8 values\n",
    "        self.hidden_layer_activation = nn.ReLU()\n",
    "        self.hidden_to_output_layer = nn.Linear(8,1)\n",
    "    # Define the forward propogation of the network. Must be named forward to work with the PyTorch function.\n",
    "    def forward(self, x):\n",
    "        x = self.input_to_hidden_layer(x)\n",
    "        x = self.hidden_layer_activation(x)\n",
    "        x = self.hidden_to_output_layer(x)\n",
    "        return x"
   ]
  },
  {
   "cell_type": "code",
   "execution_count": 6,
   "id": "073379c7",
   "metadata": {},
   "outputs": [],
   "source": [
    "# Register an instance of the class object to the device.\n",
    "mynet = MyNeuralNet().to(device)"
   ]
  },
  {
   "cell_type": "code",
   "execution_count": 7,
   "id": "ab5303d1",
   "metadata": {},
   "outputs": [],
   "source": [
    "# Define the loss function to optimize for mean squared error.\n",
    "loss_func = nn.MSELoss()"
   ]
  },
  {
   "cell_type": "code",
   "execution_count": 8,
   "id": "159fbd59",
   "metadata": {},
   "outputs": [
    {
     "name": "stdout",
     "output_type": "stream",
     "text": [
      "tensor(104.2846, device='cuda:0', grad_fn=<MseLossBackward0>)\n"
     ]
    }
   ],
   "source": [
    "# Calculate the loss value of the network.\n",
    "_Y = mynet(X)\n",
    "loss_value = loss_func(_Y,Y)\n",
    "print(loss_value)"
   ]
  },
  {
   "cell_type": "code",
   "execution_count": 9,
   "id": "20cd34f2",
   "metadata": {},
   "outputs": [],
   "source": [
    "# Stochastic gradient descent optimizer defined to reduce the loss value.\n",
    "from torch.optim import SGD\n",
    "opt = SGD(mynet.parameters(), lr = 0.001)"
   ]
  },
  {
   "cell_type": "code",
   "execution_count": 10,
   "id": "6fae567c",
   "metadata": {},
   "outputs": [],
   "source": [
    "# Create the epoch steps.\n",
    "loss_history = []\n",
    "for _ in range(50):\n",
    "    opt.zero_grad() # Flush the previous epoch's gradients.\n",
    "    loss_value = loss_func(mynet(X),Y) # Calculate the loss value corresponding to the given input and output.\n",
    "    loss_value.backward() # Calculate the gradient corresponding to each parameter.\n",
    "    opt.step() # Update the weights based on the learning rate and gradient of each parameter.\n",
    "    loss_history.append(loss_value.item())"
   ]
  },
  {
   "cell_type": "code",
   "execution_count": null,
   "id": "3ed4828f",
   "metadata": {},
   "outputs": [
    {
     "data": {
      "text/plain": [
       "Text(0, 0.5, 'loss value')"
      ]
     },
     "execution_count": 11,
     "metadata": {},
     "output_type": "execute_result"
    }
   ],
   "source": [
    "# Plot the variation in loss over increasing epochs.\n",
    "import matplotlib.pyplot as plt\n",
    "%matplotlib inline\n",
    "plt.plot(loss_history)\n",
    "plt.title('Loss variation over increasing epochs')\n",
    "plt.xlabel('epochs')\n",
    "plt.ylabel('loss value')"
   ]
  }
 ],
 "metadata": {
  "kernelspec": {
   "display_name": "Python 3 (ipykernel)",
   "language": "python",
   "name": "python3"
  },
  "language_info": {
   "codemirror_mode": {
    "name": "ipython",
    "version": 3
   },
   "file_extension": ".py",
   "mimetype": "text/x-python",
   "name": "python",
   "nbconvert_exporter": "python",
   "pygments_lexer": "ipython3",
   "version": "3.11.5"
  }
 },
 "nbformat": 4,
 "nbformat_minor": 5
}
