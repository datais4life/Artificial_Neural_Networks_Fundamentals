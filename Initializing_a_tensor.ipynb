{
 "cells": [
  {
   "cell_type": "code",
   "execution_count": 1,
   "id": "31a14785",
   "metadata": {},
   "outputs": [],
   "source": [
    "# Import pytorch and initialize a tensor\n",
    "import torch\n",
    "x = torch.tensor([[1,2]])\n",
    "y = torch.tensor([[1],[2]])"
   ]
  },
  {
   "cell_type": "code",
   "execution_count": 2,
   "id": "4237b6e1",
   "metadata": {},
   "outputs": [
    {
     "name": "stdout",
     "output_type": "stream",
     "text": [
      "torch.Size([1, 2])\n",
      "torch.Size([2, 1])\n",
      "torch.int64\n"
     ]
    }
   ],
   "source": [
    "# Get the tensor object's shape and data type\n",
    "print(x.shape)\n",
    "# torch.Size([1,2]) # one entity of two items\n",
    "print(y.shape)\n",
    "# torch.Size([2,1]) # two entities of one item each\n",
    "print(x.dtype)\n",
    "# torch.int64"
   ]
  },
  {
   "cell_type": "code",
   "execution_count": 3,
   "id": "59bca82b",
   "metadata": {},
   "outputs": [
    {
     "name": "stdout",
     "output_type": "stream",
     "text": [
      "tensor([0., 1., 2.])\n"
     ]
    }
   ],
   "source": [
    "x = torch.tensor([False, 1, 2.0])\n",
    "print(x)\n",
    "# tensor([0., 1., 2.])"
   ]
  },
  {
   "cell_type": "code",
   "execution_count": 4,
   "id": "f2083bba",
   "metadata": {},
   "outputs": [
    {
     "data": {
      "text/plain": [
       "tensor([[0., 0., 0., 0.],\n",
       "        [0., 0., 0., 0.],\n",
       "        [0., 0., 0., 0.]])"
      ]
     },
     "execution_count": 4,
     "metadata": {},
     "output_type": "execute_result"
    }
   ],
   "source": [
    "# Generate a tensor object with 3 rows and 4 columns filled with zeros.\n",
    "torch.zeros((3, 4))"
   ]
  },
  {
   "cell_type": "code",
   "execution_count": 5,
   "id": "e6015b48",
   "metadata": {},
   "outputs": [
    {
     "data": {
      "text/plain": [
       "tensor([[1., 1., 1., 1.],\n",
       "        [1., 1., 1., 1.],\n",
       "        [1., 1., 1., 1.]])"
      ]
     },
     "execution_count": 5,
     "metadata": {},
     "output_type": "execute_result"
    }
   ],
   "source": [
    "# Generate a tensor object with 3 rows and 4 columns filled with ones.\n",
    "torch.ones((3, 4))"
   ]
  },
  {
   "cell_type": "code",
   "execution_count": 6,
   "id": "f28658c7",
   "metadata": {},
   "outputs": [
    {
     "data": {
      "text/plain": [
       "tensor([[1, 0, 6, 5],\n",
       "        [3, 2, 9, 4],\n",
       "        [2, 4, 6, 5]])"
      ]
     },
     "execution_count": 6,
     "metadata": {},
     "output_type": "execute_result"
    }
   ],
   "source": [
    "# Generate 3 rows and 4 columns of values between 0 and 10, including the low value but not the high value.\n",
    "torch.randint(low=0, high=10, size=(3,4))"
   ]
  },
  {
   "cell_type": "code",
   "execution_count": 7,
   "id": "e1838359",
   "metadata": {},
   "outputs": [
    {
     "data": {
      "text/plain": [
       "tensor([[0.8094, 0.5830, 0.3188, 0.1858],\n",
       "        [0.8369, 0.9665, 0.4005, 0.2466],\n",
       "        [0.8860, 0.4515, 0.8258, 0.1302]])"
      ]
     },
     "execution_count": 7,
     "metadata": {},
     "output_type": "execute_result"
    }
   ],
   "source": [
    "# Generate random numbers between 0 and 1 with 3 rows and 4 columns.\n",
    "torch.rand(3, 4)"
   ]
  },
  {
   "cell_type": "code",
   "execution_count": 8,
   "id": "221c4cf8",
   "metadata": {},
   "outputs": [
    {
     "data": {
      "text/plain": [
       "tensor([[-1.2458,  0.8731, -1.1778,  0.9091],\n",
       "        [-0.1778,  1.2952,  3.1120,  1.1815],\n",
       "        [-0.2144,  0.7014,  1.6363, -1.1710]])"
      ]
     },
     "execution_count": 8,
     "metadata": {},
     "output_type": "execute_result"
    }
   ],
   "source": [
    "# Generate numbers that follow a normal distribution with 3 rows and 4 columns.\n",
    "torch.randn((3,4))"
   ]
  },
  {
   "cell_type": "code",
   "execution_count": 9,
   "id": "3e2b716d",
   "metadata": {},
   "outputs": [
    {
     "name": "stdout",
     "output_type": "stream",
     "text": [
      "<class 'numpy.ndarray'> <class 'torch.Tensor'>\n"
     ]
    }
   ],
   "source": [
    "# Directly convert a NumPy array into a Torch tensor.\n",
    "import numpy as np\n",
    "x = np.array([[10,20,30],[2,3,4]])\n",
    "y = torch.tensor(x)\n",
    "print(type(x), type(y))"
   ]
  },
  {
   "cell_type": "code",
   "execution_count": null,
   "id": "fe14e01c",
   "metadata": {},
   "outputs": [],
   "source": []
  }
 ],
 "metadata": {
  "kernelspec": {
   "display_name": "Python 3 (ipykernel)",
   "language": "python",
   "name": "python3"
  },
  "language_info": {
   "codemirror_mode": {
    "name": "ipython",
    "version": 3
   },
   "file_extension": ".py",
   "mimetype": "text/x-python",
   "name": "python",
   "nbconvert_exporter": "python",
   "pygments_lexer": "ipython3",
   "version": "3.11.5"
  }
 },
 "nbformat": 4,
 "nbformat_minor": 5
}
