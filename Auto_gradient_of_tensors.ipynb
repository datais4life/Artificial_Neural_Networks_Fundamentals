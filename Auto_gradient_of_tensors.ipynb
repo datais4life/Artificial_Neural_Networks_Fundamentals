{
 "cells": [
  {
   "cell_type": "code",
   "execution_count": 1,
   "id": "57394bc3",
   "metadata": {},
   "outputs": [
    {
     "name": "stdout",
     "output_type": "stream",
     "text": [
      "tensor([[ 2., -1.],\n",
      "        [ 1.,  1.]], requires_grad=True)\n"
     ]
    }
   ],
   "source": [
    "# Define a tensor object specifying thegradient to be calculated.\n",
    "import numpy as np\n",
    "import torch\n",
    "x = torch.tensor([[2., -1.], [1., 1.]], requires_grad=True)\n",
    "print(x)"
   ]
  },
  {
   "cell_type": "code",
   "execution_count": 2,
   "id": "fcbc95a7",
   "metadata": {},
   "outputs": [],
   "source": [
    "# Define a way to calculate output requiring the sum of squares of all inputs.\n",
    "out = x.pow(2).sum()"
   ]
  },
  {
   "cell_type": "code",
   "execution_count": 3,
   "id": "1c7bab1b",
   "metadata": {},
   "outputs": [],
   "source": [
    "# Calculate the gradient.\n",
    "out.backward()"
   ]
  },
  {
   "cell_type": "code",
   "execution_count": 4,
   "id": "4d0fa373",
   "metadata": {},
   "outputs": [
    {
     "data": {
      "text/plain": [
       "tensor([[ 4., -2.],\n",
       "        [ 2.,  2.]])"
      ]
     },
     "execution_count": 4,
     "metadata": {},
     "output_type": "execute_result"
    }
   ],
   "source": [
    "x.grad"
   ]
  },
  {
   "cell_type": "code",
   "execution_count": 5,
   "id": "35a07b58",
   "metadata": {},
   "outputs": [],
   "source": [
    "x = np.array([[1,1]])\n",
    "y = np.array([[0]])\n",
    "x, y = [torch.tensor(i).float() for i in [x,y]]"
   ]
  },
  {
   "cell_type": "code",
   "execution_count": 6,
   "id": "927b3698",
   "metadata": {},
   "outputs": [],
   "source": [
    "W = [\n",
    "    np.array([[-0.0053, 0.3793],\n",
    "              [-0.5820, -0.5204],\n",
    "              [-0.2723, 0.1896]], dtype=np.float32).T, \n",
    "    np.array([-0.0140, 0.5607, -0.0628], dtype=np.float32), \n",
    "    np.array([[ 0.1528, -0.1745, -0.1135]], dtype=np.float32).T, \n",
    "    np.array([-0.5516], dtype=np.float32)\n",
    "]\n",
    "\n",
    "W = [torch.tensor(i, requires_grad=True) for i in W]"
   ]
  },
  {
   "cell_type": "code",
   "execution_count": 7,
   "id": "1ff6a1f8",
   "metadata": {},
   "outputs": [],
   "source": [
    "def feed_forward(inputs, outputs, weights):\n",
    "    pre_hidden = torch.matmul(inputs,weights[0])+ weights[1]\n",
    "    hidden = 1/(1+torch.exp(-pre_hidden))\n",
    "    out = torch.matmul(hidden, weights[2]) + weights[3]\n",
    "    mean_squared_error = torch.mean(torch.square(out - outputs))\n",
    "    return mean_squared_error"
   ]
  },
  {
   "cell_type": "code",
   "execution_count": 8,
   "id": "73127b8e",
   "metadata": {},
   "outputs": [
    {
     "data": {
      "text/plain": [
       "tensor(0.3346, grad_fn=<MeanBackward0>)"
      ]
     },
     "execution_count": 8,
     "metadata": {},
     "output_type": "execute_result"
    }
   ],
   "source": [
    "loss = feed_forward(x, y, W)\n",
    "loss"
   ]
  },
  {
   "cell_type": "code",
   "execution_count": 9,
   "id": "cad4b65f",
   "metadata": {},
   "outputs": [],
   "source": [
    "loss.backward()"
   ]
  },
  {
   "cell_type": "code",
   "execution_count": 10,
   "id": "9c2a1f86",
   "metadata": {},
   "outputs": [
    {
     "name": "stdout",
     "output_type": "stream",
     "text": [
      "[tensor([[-0.0428,  0.0469,  0.0327],\n",
      "        [-0.0428,  0.0469,  0.0327]]), tensor([-0.0428,  0.0469,  0.0327]), tensor([[-0.6814],\n",
      "        [-0.4255],\n",
      "        [-0.5364]]), tensor([-1.1568])]\n"
     ]
    }
   ],
   "source": [
    "print([w.grad for w in W])"
   ]
  },
  {
   "cell_type": "code",
   "execution_count": 11,
   "id": "ad2525b8",
   "metadata": {},
   "outputs": [
    {
     "data": {
      "text/plain": [
       "[tensor([[ 0.0375, -0.6289, -0.3050],\n",
       "         [ 0.4221, -0.5673,  0.1569]], grad_fn=<SubBackward0>),\n",
       " tensor([ 0.0288,  0.5138, -0.0955], grad_fn=<SubBackward0>),\n",
       " tensor([[0.8342],\n",
       "         [0.2510],\n",
       "         [0.4229]], grad_fn=<SubBackward0>),\n",
       " tensor([0.6052], grad_fn=<SubBackward0>)]"
      ]
     },
     "execution_count": 11,
     "metadata": {},
     "output_type": "execute_result"
    }
   ],
   "source": [
    "updated_W = [w-w.grad for w in W]\n",
    "updated_W"
   ]
  },
  {
   "cell_type": "code",
   "execution_count": null,
   "id": "e8b6743a",
   "metadata": {},
   "outputs": [],
   "source": []
  }
 ],
 "metadata": {
  "kernelspec": {
   "display_name": "Python 3 (ipykernel)",
   "language": "python",
   "name": "python3"
  },
  "language_info": {
   "codemirror_mode": {
    "name": "ipython",
    "version": 3
   },
   "file_extension": ".py",
   "mimetype": "text/x-python",
   "name": "python",
   "nbconvert_exporter": "python",
   "pygments_lexer": "ipython3",
   "version": "3.11.5"
  }
 },
 "nbformat": 4,
 "nbformat_minor": 5
}
